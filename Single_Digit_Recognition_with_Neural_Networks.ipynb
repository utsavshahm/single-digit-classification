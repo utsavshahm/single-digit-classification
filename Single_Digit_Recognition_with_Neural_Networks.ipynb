{
  "cells": [
    {
      "cell_type": "markdown",
      "id": "bored-updating",
      "metadata": {
        "id": "bored-updating"
      },
      "source": [
        "#### Importing Libraries"
      ]
    },
    {
      "cell_type": "code",
      "execution_count": 129,
      "id": "prime-observer",
      "metadata": {
        "id": "prime-observer"
      },
      "outputs": [],
      "source": [
        "import numpy as np\n",
        "import matplotlib.pyplot as plt\n",
        "import random"
      ]
    },
    {
      "cell_type": "markdown",
      "id": "primary-craps",
      "metadata": {
        "id": "primary-craps"
      },
      "source": [
        "# Importing Datasets\n",
        "\n",
        "\n",
        "The shape of X should be (n, m),\n",
        "And that of Y should be (10, m)\n",
        "\n",
        "Here,\n",
        "- n = total number of features\n",
        "- m = total number of observations in our dataset\n",
        "- 10 = number of output classes"
      ]
    },
    {
      "cell_type": "code",
      "execution_count": 152,
      "id": "accredited-decimal",
      "metadata": {
        "id": "accredited-decimal"
      },
      "outputs": [],
      "source": [
        "X_train = np.loadtxt('train_X.csv', delimiter = ',')\n",
        "Y_train = np.loadtxt('train_label.csv', delimiter = ',')\n",
        "\n",
        "X_train = X_train.T\n",
        "Y_train = Y_train.T\n"
      ]
    },
    {
      "cell_type": "code",
      "execution_count": 131,
      "id": "mexican-penetration",
      "metadata": {
        "id": "mexican-penetration"
      },
      "outputs": [],
      "source": [
        "X_test = np.loadtxt('test_X.csv', delimiter = ',')\n",
        "Y_test = np.loadtxt('test_label.csv', delimiter = ',')\n",
        "\n",
        "X_test = X_test.T\n",
        "Y_test = Y_test.T"
      ]
    },
    {
      "cell_type": "code",
      "execution_count": 132,
      "id": "sticky-today",
      "metadata": {
        "id": "sticky-today",
        "outputId": "7d177ae8-9779-4006-f3e6-dfef4f2da3b6",
        "colab": {
          "base_uri": "https://localhost:8080/"
        }
      },
      "outputs": [
        {
          "output_type": "stream",
          "name": "stdout",
          "text": [
            "shape of X_train :  (784, 1000)\n",
            "shape of Y_train :  (10, 1000)\n",
            "shape of X_test :  (784, 350)\n",
            "shape of Y_test :  (10, 350)\n"
          ]
        }
      ],
      "source": [
        "print(\"shape of X_train : \", X_train.shape)\n",
        "print(\"shape of Y_train : \", Y_train.shape)\n",
        "\n",
        "print(\"shape of X_test : \", X_test.shape)\n",
        "print(\"shape of Y_test : \", Y_test.shape)"
      ]
    },
    {
      "cell_type": "markdown",
      "id": "attached-association",
      "metadata": {
        "id": "attached-association"
      },
      "source": [
        "### Visualizing our Dataset\n",
        "\n",
        "Our dataset is in the form of numbers. So, to visualize it properly, we will display it in the form of image"
      ]
    },
    {
      "cell_type": "code",
      "execution_count": 133,
      "id": "excess-expression",
      "metadata": {
        "id": "excess-expression",
        "outputId": "eb1263ee-f5a5-40d4-9e48-e008944004ec",
        "colab": {
          "base_uri": "https://localhost:8080/",
          "height": 430
        }
      },
      "outputs": [
        {
          "output_type": "display_data",
          "data": {
            "text/plain": [
              "<Figure size 640x480 with 1 Axes>"
            ],
            "image/png": "[encoded data removed]"
          },
          "metadata": {}
        }
      ],
      "source": [
        "index = int(random.randrange(0,X_train.shape[1])) # generate a random index\n",
        "plt.imshow(X_train[:, index].reshape((28,28)),cmap='gray')\n",
        "plt.show()"
      ]
    },
    {
      "cell_type": "markdown",
      "id": "conservative-graphic",
      "metadata": {
        "id": "conservative-graphic"
      },
      "source": [
        "# Model\n",
        "\n",
        "![nn](https://github.com/utsavshahm/Neural-Network---MultiClass-Classifcation-with-Softmax/blob/main/Images/nn.png?raw=1)\n",
        "\n",
        "## Initialize parameters Randomly\n",
        "$ W_1 = np.random.randn(n_1, n_0) $\n",
        "\n",
        "$ b_1 = np.zeros((n_1, 1))$\n",
        "\n",
        "$ W_2 = np.random.randn(n_2, n_1) $\n",
        "\n",
        "$ b_2 = np.zeros((n_2, 1))$\n",
        "\n",
        "\n",
        "## *Repeat Below Steps for many times : *\n",
        "\n",
        "\n",
        "## Forward Propagation\n",
        "\n",
        "$ Z_1 = W_1 * X + B_1 $\n",
        "\n",
        "$ A_1 = f ( Z_1 ) $  \n",
        "\n",
        "$ Z_2 = W2 * A_1 + B_2 $\n",
        "\n",
        "$ A_2 = Softmax( Z_2 ) $\n",
        "\n",
        "## Softmax\n",
        "\n",
        "$ a_i = \\frac{e^{z_i}}{\\sum_{i=k}^ne^{z_k}}$\n",
        "\n",
        "\n",
        "## Cost Function\n",
        "\n",
        "$Loss = - \\sum_{i=k}^{n}[ y_k*log(a_k) ]$\n",
        "\n",
        "$Cost = - \\frac{1}{m}\\sum_{i=1}^{m}\\sum_{k=1}^{n}[ y_k*log(a_k) ]$\n",
        "\n",
        "\n",
        "\n",
        "## Backward Propagation\n",
        "$dZ_2 = ( A_2 - Y )$\n",
        "\n",
        "$ dW_2 = \\frac{1}{m}. dZ_2 . A_1^T$\n",
        "\n",
        "$ dB_2 = \\frac{1}{m}.sum(dZ_2, 1)$\n",
        "\n",
        "\n",
        "\n",
        "$dZ_1 = W_2^T . dZ_2 * f_1^|(Z_1) $\n",
        "\n",
        "$dW_1 = \\frac{1}{m}.dZ_1.X^T$\n",
        "\n",
        "$dB_1 = \\frac{1}{m}.sum(dZ_1, 1)$\n",
        "\n",
        "\n",
        "## Updating Parameters\n",
        "\n",
        "$ W_2 = W_2 -  \\alpha * \\frac{\\partial Cost }{\\partial W_2}$\n",
        "\n",
        "$ B_2 = B_2 -  \\alpha * \\frac{\\partial Cost }{\\partial B_2}$\n",
        "\n",
        "$ W_1 = W_1 -  \\alpha * \\frac{\\partial Cost }{\\partial W_1}$\n",
        "\n",
        "$ B_1 = B_1 -  \\alpha * \\frac{\\partial Cost }{\\partial B_1}$\n"
      ]
    },
    {
      "cell_type": "markdown",
      "id": "private-seven",
      "metadata": {
        "id": "private-seven"
      },
      "source": [
        "# Activation Functions"
      ]
    },
    {
      "cell_type": "code",
      "execution_count": 134,
      "id": "better-winning",
      "metadata": {
        "id": "better-winning"
      },
      "outputs": [],
      "source": [
        "def tanh(x):\n",
        "\n",
        "    return np.tanh(x)"
      ]
    },
    {
      "cell_type": "code",
      "execution_count": 135,
      "id": "immune-wright",
      "metadata": {
        "id": "immune-wright"
      },
      "outputs": [],
      "source": [
        "def relu(x):\n",
        "    return np.maximum(x, 0)\n"
      ]
    },
    {
      "cell_type": "code",
      "execution_count": 149,
      "id": "several-roommate",
      "metadata": {
        "id": "several-roommate"
      },
      "outputs": [],
      "source": [
        "def softmax(x):\n",
        "\n",
        "    expX = np.exp(x)\n",
        "    return expX/np.sum(expX, axis = 0)"
      ]
    },
    {
      "cell_type": "markdown",
      "id": "smart-gambling",
      "metadata": {
        "id": "smart-gambling"
      },
      "source": [
        "The function *derivative_tanh* must return the derivative of tanh.\n",
        "The function *derivative_relu* must return the derivative of ReLU"
      ]
    },
    {
      "cell_type": "code",
      "execution_count": 137,
      "id": "german-stake",
      "metadata": {
        "id": "german-stake"
      },
      "outputs": [],
      "source": [
        "def derivative_tanh(x):\n",
        "\n",
        "    return 1 - np.power(np.tanh(x), 2)\n",
        "\n",
        "def derivative_relu(x):\n",
        "    return np.array(x > 0, dtype = np.float32)"
      ]
    },
    {
      "cell_type": "markdown",
      "id": "forward-heading",
      "metadata": {
        "id": "forward-heading"
      },
      "source": [
        "# Initialize Parameters\n",
        "\n",
        "We need to initialize the **W** parameters randomly, and **B** with zeros\n",
        "\n",
        "- np.random.randn(a, b) return a numpy array of shape(a, b) with small random values\n",
        "- For making the values small, we multiply 0.01\n",
        "- np.zeros((a, b) return a numpy array of shape(a, b) with zeros\n",
        "\n",
        "### Why need small weights W?\n",
        "If we initialize weights will large values, then Z = W * X + B, will be large. For functions like tanh and sigmoid, the slope becomes very less for large Z value, thus learning can be very slow.\n"
      ]
    },
    {
      "cell_type": "code",
      "execution_count": 151,
      "id": "several-textbook",
      "metadata": {
        "id": "several-textbook"
      },
      "outputs": [],
      "source": [
        "def initialize_parameters(n_first, n_second, n_final):\n",
        "\n",
        "    w1 = np.random.randn(n_second, n_first)*0.01\n",
        "    b1 = np.zeros((n_second, 1))\n",
        "    w2 = np.random.randn(n_final, n_second)*0.01\n",
        "    b2 = np.zeros((n_final, 1))\n",
        "\n",
        "    parameters = {\n",
        "        \"w1\" : w1,\n",
        "        \"b1\" : b1,\n",
        "        \"w2\" : w2,\n",
        "        \"b2\" : b2\n",
        "    }\n",
        "\n",
        "    return parameters"
      ]
    },
    {
      "cell_type": "markdown",
      "id": "listed-sauce",
      "metadata": {
        "id": "listed-sauce"
      },
      "source": [
        "# Forward Propagation\n",
        "\n",
        "We need to impletement the following equation for forward propagation :\n",
        "\n",
        "$ Z_1 = W_1 * X + B_1 $\n",
        "\n",
        "$ A_1 = f ( Z_1 ) $  \n",
        "\n",
        "$ Z_2 = W2 * A_1 + B_2 $\n",
        "\n",
        "$ A_2 = Softmax( Z_2 ) $\n",
        "\n",
        "For f(x), you can use either tanh or ReLU activation function.\n",
        "\n",
        "But also use the same for Backpropagation as well"
      ]
    },
    {
      "cell_type": "code",
      "execution_count": 139,
      "id": "described-excess",
      "metadata": {
        "id": "described-excess"
      },
      "outputs": [],
      "source": [
        "def forward_prop(x, parameters):\n",
        "\n",
        "    w1 = parameters['w1']\n",
        "    b1 = parameters['b1']\n",
        "    w2 = parameters['w2']\n",
        "    b2 = parameters['b2']\n",
        "\n",
        "\n",
        "    z1 = np.dot(w1, x) + b1\n",
        "    a1 = relu(z1)\n",
        "    z2 = np.dot(w2, a1) + b2\n",
        "    a2 = softmax(z2)\n",
        "\n",
        "    # To return our Zs and As\n",
        "    forward_cache = {\n",
        "        \"z1\" : z1,\n",
        "        \"a1\" : a1,\n",
        "        \"z2\" : z2,\n",
        "        \"a2\" : a2\n",
        "    }\n",
        "\n",
        "    return forward_cache"
      ]
    },
    {
      "cell_type": "markdown",
      "id": "sharp-tourist",
      "metadata": {
        "id": "sharp-tourist"
      },
      "source": [
        "# Cost Function\n",
        "\n",
        "$Loss = - \\sum_{k=1}^{n}[ y_k*log(a_k) ]$ .. *for 1 observation*\n",
        "\n",
        "$Cost = - \\frac{1}{m}\\sum_{i=1}^{m}\\sum_{k=1}^{n}[ y_k*log(a_k) ]$  .. *for all m observations*\n",
        "\n",
        "You can use np.sum()\n",
        "- np.sum(A, axis = 1, keepdims = True) return the column-wise sum for a matrix A\n",
        "- np.sum(A, axis = 0, keepdims = True) returns the row-wise sum for a matrix A\n",
        "- np.sum(A) returns the summation of all the elements of A\n",
        "\n",
        "*keepdims = True keeps the dimenstion in place. In certain cases, the returned sum can be of shape(m,) instead of shape(m, 1).\n",
        "So, keepdims = True forces it to return the sum in shape(m, 1) instead of shape(m,)*\n",
        "\n",
        "\n",
        "More about np.sum() here : https://numpy.org/doc/stable/reference/generated/numpy.sum.html"
      ]
    },
    {
      "cell_type": "code",
      "execution_count": 163,
      "id": "conservative-straight",
      "metadata": {
        "id": "conservative-straight"
      },
      "outputs": [],
      "source": [
        "def cost_function(a2, y):\n",
        "\n",
        "    m = y.shape[1]\n",
        "    cost = np.sum(y*np.log(a2))\n",
        "    return (-1/m) * cost"
      ]
    },
    {
      "cell_type": "markdown",
      "id": "configured-draft",
      "metadata": {
        "id": "configured-draft"
      },
      "source": [
        "# Backward Propagation\n",
        "\n",
        "We need to implement the below equations for backward propagation.\n",
        "\n",
        "$dZ_2 = ( A_2 - Y )$\n",
        "\n",
        "$ dW_2 = \\frac{1}{m}. dZ_2 . A_2^T$\n",
        "\n",
        "$ dB_2 = \\frac{1}{m}.sum(dZ_2, 1)$\n",
        "\n",
        "\n",
        "\n",
        "$dZ_1 = W_2^T . dZ_2 * f_1^|(Z_1) $\n",
        "\n",
        "$dW_1 = \\frac{1}{m}.dZ_1.X^T$\n",
        "\n",
        "$dB_1 = \\frac{1}{m}.sum(dZ_1, 1)$"
      ]
    },
    {
      "cell_type": "code",
      "execution_count": 141,
      "id": "regulation-internship",
      "metadata": {
        "id": "regulation-internship"
      },
      "outputs": [],
      "source": [
        "def backward_prop(x, y, parameters, forward_cache):\n",
        "\n",
        "    m = x.shape[1]\n",
        "\n",
        "    # Fetching our parameters\n",
        "    w1 = parameters['w1']\n",
        "    b1 = parameters['b1']\n",
        "    w2 = parameters['w2']\n",
        "    b2 = parameters['b2']\n",
        "\n",
        "    # Fetching our forward_cache\n",
        "    a1 = forward_cache['a1']\n",
        "    a2 = forward_cache['a2']\n",
        "\n",
        "\n",
        "    dz2 = a2 - y\n",
        "    dw2 = 1/m * np.dot(dz2, a1.T)\n",
        "    db2 = 1/m * np.sum(dz2, axis = 1, keepdims = True)\n",
        "\n",
        "    dz1 = (1/m)*np.dot(w2.T, dz2)*derivative_relu(a1)\n",
        "    dw1 = 1/m * np.dot(dz1, x.T)\n",
        "    db1 = 1/m * np.sum(dz1, axis = 1, keepdims = True)\n",
        "\n",
        "\n",
        "    ## Returning the Gradients\n",
        "    gradients = {\n",
        "        \"dw1\" : dw1,\n",
        "        \"db1\" : db1,\n",
        "        \"dw2\" : dw2,\n",
        "        \"db2\" : db2\n",
        "    }\n",
        "\n",
        "    return gradients"
      ]
    },
    {
      "cell_type": "markdown",
      "id": "soviet-sentence",
      "metadata": {
        "id": "soviet-sentence"
      },
      "source": [
        "# Update Parameters"
      ]
    },
    {
      "cell_type": "code",
      "execution_count": 142,
      "id": "convertible-samba",
      "metadata": {
        "id": "convertible-samba"
      },
      "outputs": [],
      "source": [
        "def update_parameters(parameters, gradients, learning_rate):\n",
        "\n",
        "    # Fetching our parameters\n",
        "    w1 = parameters['w1']\n",
        "    b1 = parameters['b1']\n",
        "    w2 = parameters['w2']\n",
        "    b2 = parameters['b2']\n",
        "\n",
        "    # Fetching our gradients\n",
        "    dw1 = gradients['dw1']\n",
        "    db1 = gradients['db1']\n",
        "    dw2 = gradients['dw2']\n",
        "    db2 = gradients['db2']\n",
        "\n",
        "# updating the weights and biases\n",
        "    w1 = w1 - learning_rate * dw1\n",
        "    b1 = b1 - learning_rate * db1\n",
        "    w2 = w2 - learning_rate * dw2\n",
        "    b2 = b2 - learning_rate * db2\n",
        "\n",
        "    # Returning the updated parameters\n",
        "    Parameters = {\n",
        "        \"w1\" : w1,\n",
        "        \"b1\" : b1,\n",
        "        \"w2\" : w2,\n",
        "        \"b2\" : b2\n",
        "    }\n",
        "\n",
        "    return Parameters"
      ]
    },
    {
      "cell_type": "markdown",
      "id": "sharing-effort",
      "metadata": {
        "id": "sharing-effort"
      },
      "source": [
        "# Complete Model\n",
        "\n",
        "The complete model :\n",
        "\n",
        "### Instructions :\n",
        "\n",
        "We need to initialize parameters once, and after that, we will run the following in a loop:\n",
        "- forward_prop(x, parameters)\n",
        "- cost_function(a2, y)\n",
        "- backward_prop(x, y, parameters, forward_cache)\n",
        "- parameters = update_parameters(parameters, gradients, learning_rate)\n",
        "\n",
        "### Return :\n",
        "- parameters, which will be our trained parameters\n",
        "- cost_list, which contains cost for every iterations."
      ]
    },
    {
      "cell_type": "code",
      "execution_count": 143,
      "id": "powerful-sailing",
      "metadata": {
        "id": "powerful-sailing"
      },
      "outputs": [],
      "source": [
        "def model(x, y, n_h, learning_rate, iterations):\n",
        "\n",
        "    n_x = x.shape[0]                       # must return the number of neurons/features in input layer\n",
        "    n_y = y.shape[0]                       # must return the number of neurons in output layer\n",
        "\n",
        "\n",
        "    cost_list = []\n",
        "\n",
        "    parameters = initialize_parameters(n_x, n_h, n_y)\n",
        "\n",
        "\n",
        "    for i in range(iterations):\n",
        "\n",
        "        # Forward Propagation\n",
        "        forward_cache = forward_prop(x, parameters)\n",
        "        a2 = forward_cache['a2']\n",
        "        # Cost Function\n",
        "        cost = cost_function(a2, y)\n",
        "\n",
        "        # Backward Propagation\n",
        "        gradients = backward_prop(x, y, parameters, forward_cache)\n",
        "\n",
        "        # Update Parameters\n",
        "        parameters = update_parameters(parameters, gradients, learning_rate)\n",
        "\n",
        "        cost_list.append(cost)\n",
        "\n",
        "        if i%(iterations/10) == 0 :\n",
        "            print(\"cost after\", i, \"iters is\" ,     cost   )\n",
        "\n",
        "\n",
        "    return parameters, cost_list"
      ]
    },
    {
      "cell_type": "code",
      "execution_count": 165,
      "id": "democratic-williams",
      "metadata": {
        "id": "democratic-williams",
        "outputId": "87177478-6fe3-42fb-f59e-14a2fcd8e057",
        "colab": {
          "base_uri": "https://localhost:8080/"
        }
      },
      "outputs": [
        {
          "output_type": "stream",
          "name": "stdout",
          "text": [
            "cost after 0 iters is 7.5214643007205195\n",
            "cost after 10 iters is 27.389814563393156\n",
            "cost after 20 iters is 7.753710493873135\n",
            "cost after 30 iters is 0.7626970495986272\n",
            "cost after 40 iters is 1.2301604522842953\n",
            "cost after 50 iters is 0.3664683491101093\n",
            "cost after 60 iters is 0.1744635604564111\n",
            "cost after 70 iters is 0.10098966122200508\n",
            "cost after 80 iters is 0.06092973457146661\n",
            "cost after 90 iters is 0.03671265032538972\n"
          ]
        }
      ],
      "source": [
        "\n",
        "\n",
        "n_h = 1000\n",
        "learning_rate = 0.002\n",
        "iterations = 100\n",
        "\n",
        "Parameters, Cost_list = model(X_train, Y_train, n_h = n_h, learning_rate = learning_rate, iterations = iterations)"
      ]
    },
    {
      "cell_type": "code",
      "execution_count": 158,
      "id": "permanent-music",
      "metadata": {
        "id": "permanent-music",
        "outputId": "5b827d34-3845-48bc-f4a0-63e28c073074",
        "colab": {
          "base_uri": "https://localhost:8080/",
          "height": 445
        }
      },
      "outputs": [
        {
          "output_type": "display_data",
          "data": {
            "text/plain": [
              "<Figure size 640x480 with 1 Axes>"
            ],
            "image/png": "[encoded data removed]"
          },
          "metadata": {}
        }
      ],
      "source": [
        "t = np.arange(0, iterations)\n",
        "plt.plot(t, Cost_list)\n",
        "plt.show()"
      ]
    },
    {
      "cell_type": "markdown",
      "id": "apparent-contribution",
      "metadata": {
        "id": "apparent-contribution"
      },
      "source": [
        "# Checking Accuracy\n",
        "\n",
        "Run the below cells to check your model Accuracy"
      ]
    },
    {
      "cell_type": "code",
      "execution_count": 168,
      "id": "alone-liver",
      "metadata": {
        "id": "alone-liver"
      },
      "outputs": [],
      "source": [
        "def accuracy(inp, labels, parameters):\n",
        "    forward_cache = forward_prop(inp, parameters)\n",
        "    a_out = forward_cache['a2']   # containes propabilities with shape(10, 1)\n",
        "\n",
        "    a_out = np.argmax(a_out, 0)  # 0 represents row wise\n",
        "\n",
        "    labels = np.argmax(labels, 0)\n",
        "\n",
        "    acc = np.mean(a_out == labels)*100\n",
        "\n",
        "    return acc"
      ]
    },
    {
      "cell_type": "code",
      "execution_count": 169,
      "id": "later-brake",
      "metadata": {
        "id": "later-brake",
        "outputId": "305900f3-aa9d-4ff7-e7dd-9157da4e62d9",
        "colab": {
          "base_uri": "https://localhost:8080/"
        }
      },
      "outputs": [
        {
          "output_type": "stream",
          "name": "stdout",
          "text": [
            "Accuracy of Train Dataset 99.5 %\n",
            "Accuracy of Test Dataset 86.0 %\n"
          ]
        }
      ],
      "source": [
        "print(\"Accuracy of Train Dataset\", accuracy(X_train, Y_train, Parameters), \"%\")\n",
        "print(\"Accuracy of Test Dataset\", round(accuracy(X_test, Y_test, Parameters), 2), \"%\")"
      ]
    },
    {
      "cell_type": "code",
      "execution_count": 170,
      "id": "banned-clone",
      "metadata": {
        "id": "banned-clone",
        "outputId": "8c7f82a2-c6ed-4d89-bfcc-00c0bf0c85a9",
        "colab": {
          "base_uri": "https://localhost:8080/",
          "height": 447
        }
      },
      "outputs": [
        {
          "output_type": "display_data",
          "data": {
            "text/plain": [
              "<Figure size 640x480 with 1 Axes>"
            ],
            "image/png": "[encoded data removed]"
          },
          "metadata": {}
        },
        {
          "output_type": "stream",
          "name": "stdout",
          "text": [
            "Our model says it is : 8\n"
          ]
        }
      ],
      "source": [
        "idx = int(random.randrange(0,X_test.shape[1]))\n",
        "plt.imshow(X_test[:, idx].reshape((28,28)),cmap='gray')\n",
        "plt.show()\n",
        "\n",
        "cache = forward_prop(X_test[:, idx].reshape(X_test[:, idx].shape[0], 1), Parameters)\n",
        "a_pred = cache['a2']\n",
        "a_pred = np.argmax(a_pred, 0)\n",
        "\n",
        "print(\"Our model says it is :\", a_pred[0])"
      ]
    },
    {
      "cell_type": "code",
      "execution_count": 148,
      "id": "pediatric-submission",
      "metadata": {
        "id": "pediatric-submission"
      },
      "outputs": [],
      "source": []
    }
  ],
  "metadata": {
    "kernelspec": {
      "display_name": "Python 3",
      "language": "python",
      "name": "python3"
    },
    "language_info": {
      "codemirror_mode": {
        "name": "ipython",
        "version": 3
      },
      "file_extension": ".py",
      "mimetype": "text/x-python",
      "name": "python",
      "nbconvert_exporter": "python",
      "pygments_lexer": "ipython3",
      "version": "3.9.1"
    },
    "colab": {
      "provenance": []
    }
  },
  "nbformat": 4,
  "nbformat_minor": 5
}